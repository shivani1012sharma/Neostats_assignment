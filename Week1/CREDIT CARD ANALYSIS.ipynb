{
 "cells": [
  {
   "cell_type": "markdown",
   "id": "2e97dc42",
   "metadata": {},
   "source": [
    "## IMPORTING THE LIBRARIES"
   ]
  },
  {
   "cell_type": "code",
   "execution_count": 1,
   "id": "fa8f8057",
   "metadata": {},
   "outputs": [],
   "source": [
    "import numpy as np\n",
    "import pandas as pd\n",
    "import seaborn as sns\n",
    "import matplotlib.pyplot as plt"
   ]
  },
  {
   "cell_type": "markdown",
   "id": "08f321e6",
   "metadata": {},
   "source": [
    "## READING THE FILES"
   ]
  },
  {
   "cell_type": "code",
   "execution_count": 2,
   "id": "21bb2176",
   "metadata": {},
   "outputs": [],
   "source": [
    "master_data=pd.read_excel(\"C:/New folder/Credit Card Data.xlsx\")"
   ]
  },
  {
   "cell_type": "code",
   "execution_count": 3,
   "id": "2d3bdb8a",
   "metadata": {},
   "outputs": [
    {
     "data": {
      "text/html": [
       "<div>\n",
       "<style scoped>\n",
       "    .dataframe tbody tr th:only-of-type {\n",
       "        vertical-align: middle;\n",
       "    }\n",
       "\n",
       "    .dataframe tbody tr th {\n",
       "        vertical-align: top;\n",
       "    }\n",
       "\n",
       "    .dataframe thead th {\n",
       "        text-align: right;\n",
       "    }\n",
       "</style>\n",
       "<table border=\"1\" class=\"dataframe\">\n",
       "  <thead>\n",
       "    <tr style=\"text-align: right;\">\n",
       "      <th></th>\n",
       "      <th>No</th>\n",
       "      <th>Customer</th>\n",
       "      <th>Age</th>\n",
       "      <th>City</th>\n",
       "      <th>Product</th>\n",
       "      <th>Limit</th>\n",
       "      <th>Company</th>\n",
       "      <th>Segment</th>\n",
       "    </tr>\n",
       "  </thead>\n",
       "  <tbody>\n",
       "    <tr>\n",
       "      <th>0</th>\n",
       "      <td>1</td>\n",
       "      <td>A1</td>\n",
       "      <td>47</td>\n",
       "      <td>BANGALORE</td>\n",
       "      <td>Gold</td>\n",
       "      <td>1500000</td>\n",
       "      <td>C1</td>\n",
       "      <td>Self Employed</td>\n",
       "    </tr>\n",
       "    <tr>\n",
       "      <th>1</th>\n",
       "      <td>2</td>\n",
       "      <td>A2</td>\n",
       "      <td>56</td>\n",
       "      <td>CALCUTTA</td>\n",
       "      <td>Silver</td>\n",
       "      <td>300000</td>\n",
       "      <td>C2</td>\n",
       "      <td>Salaried_MNC</td>\n",
       "    </tr>\n",
       "    <tr>\n",
       "      <th>2</th>\n",
       "      <td>3</td>\n",
       "      <td>A3</td>\n",
       "      <td>30</td>\n",
       "      <td>COCHIN</td>\n",
       "      <td>Platimum</td>\n",
       "      <td>540000</td>\n",
       "      <td>C3</td>\n",
       "      <td>Salaried_Pvt</td>\n",
       "    </tr>\n",
       "    <tr>\n",
       "      <th>3</th>\n",
       "      <td>4</td>\n",
       "      <td>A4</td>\n",
       "      <td>22</td>\n",
       "      <td>BOMBAY</td>\n",
       "      <td>Platimum</td>\n",
       "      <td>840084</td>\n",
       "      <td>C4</td>\n",
       "      <td>Govt</td>\n",
       "    </tr>\n",
       "    <tr>\n",
       "      <th>4</th>\n",
       "      <td>5</td>\n",
       "      <td>A5</td>\n",
       "      <td>59</td>\n",
       "      <td>BANGALORE</td>\n",
       "      <td>Platimum</td>\n",
       "      <td>420084</td>\n",
       "      <td>C5</td>\n",
       "      <td>Normal Salary</td>\n",
       "    </tr>\n",
       "  </tbody>\n",
       "</table>\n",
       "</div>"
      ],
      "text/plain": [
       "   No Customer  Age       City   Product    Limit Company        Segment\n",
       "0   1       A1   47  BANGALORE      Gold  1500000      C1  Self Employed\n",
       "1   2       A2   56   CALCUTTA    Silver   300000      C2   Salaried_MNC\n",
       "2   3       A3   30     COCHIN  Platimum   540000      C3   Salaried_Pvt\n",
       "3   4       A4   22     BOMBAY  Platimum   840084      C4           Govt\n",
       "4   5       A5   59  BANGALORE  Platimum   420084      C5  Normal Salary"
      ]
     },
     "execution_count": 3,
     "metadata": {},
     "output_type": "execute_result"
    }
   ],
   "source": [
    "master_data.head()"
   ]
  },
  {
   "cell_type": "code",
   "execution_count": 4,
   "id": "068bdc41",
   "metadata": {},
   "outputs": [],
   "source": [
    "spend=pd.read_excel(\"C:/New folder/Credit Card Data.xlsx\",sheet_name='Spend')"
   ]
  },
  {
   "cell_type": "code",
   "execution_count": 5,
   "id": "6363bd80",
   "metadata": {},
   "outputs": [
    {
     "data": {
      "text/html": [
       "<div>\n",
       "<style scoped>\n",
       "    .dataframe tbody tr th:only-of-type {\n",
       "        vertical-align: middle;\n",
       "    }\n",
       "\n",
       "    .dataframe tbody tr th {\n",
       "        vertical-align: top;\n",
       "    }\n",
       "\n",
       "    .dataframe thead th {\n",
       "        text-align: right;\n",
       "    }\n",
       "</style>\n",
       "<table border=\"1\" class=\"dataframe\">\n",
       "  <thead>\n",
       "    <tr style=\"text-align: right;\">\n",
       "      <th></th>\n",
       "      <th>Sl No:</th>\n",
       "      <th>Customer</th>\n",
       "      <th>Month</th>\n",
       "      <th>Type</th>\n",
       "      <th>Amount</th>\n",
       "    </tr>\n",
       "  </thead>\n",
       "  <tbody>\n",
       "    <tr>\n",
       "      <th>0</th>\n",
       "      <td>1</td>\n",
       "      <td>A1</td>\n",
       "      <td>2004-01-12</td>\n",
       "      <td>JEWELLERY</td>\n",
       "      <td>344054.980813</td>\n",
       "    </tr>\n",
       "    <tr>\n",
       "      <th>1</th>\n",
       "      <td>2</td>\n",
       "      <td>A1</td>\n",
       "      <td>2004-01-03</td>\n",
       "      <td>PETRO</td>\n",
       "      <td>935.495203</td>\n",
       "    </tr>\n",
       "    <tr>\n",
       "      <th>2</th>\n",
       "      <td>3</td>\n",
       "      <td>A1</td>\n",
       "      <td>2004-01-15</td>\n",
       "      <td>CLOTHES</td>\n",
       "      <td>8687.895474</td>\n",
       "    </tr>\n",
       "    <tr>\n",
       "      <th>3</th>\n",
       "      <td>4</td>\n",
       "      <td>A1</td>\n",
       "      <td>2004-01-25</td>\n",
       "      <td>FOOD</td>\n",
       "      <td>341.159711</td>\n",
       "    </tr>\n",
       "    <tr>\n",
       "      <th>4</th>\n",
       "      <td>5</td>\n",
       "      <td>A1</td>\n",
       "      <td>2005-01-17</td>\n",
       "      <td>CAMERA</td>\n",
       "      <td>3406.639477</td>\n",
       "    </tr>\n",
       "  </tbody>\n",
       "</table>\n",
       "</div>"
      ],
      "text/plain": [
       "   Sl No: Customer      Month       Type         Amount\n",
       "0       1       A1 2004-01-12  JEWELLERY  344054.980813\n",
       "1       2       A1 2004-01-03      PETRO     935.495203\n",
       "2       3       A1 2004-01-15    CLOTHES    8687.895474\n",
       "3       4       A1 2004-01-25       FOOD     341.159711\n",
       "4       5       A1 2005-01-17     CAMERA    3406.639477"
      ]
     },
     "execution_count": 5,
     "metadata": {},
     "output_type": "execute_result"
    }
   ],
   "source": [
    "spend.head()"
   ]
  },
  {
   "cell_type": "code",
   "execution_count": 6,
   "id": "edc20177",
   "metadata": {},
   "outputs": [],
   "source": [
    "repay_data=pd.read_excel(\"C:/New folder/Credit Card Data.xlsx\",sheet_name='Repayment')"
   ]
  },
  {
   "cell_type": "code",
   "execution_count": 7,
   "id": "bc6b9796",
   "metadata": {},
   "outputs": [
    {
     "data": {
      "text/html": [
       "<div>\n",
       "<style scoped>\n",
       "    .dataframe tbody tr th:only-of-type {\n",
       "        vertical-align: middle;\n",
       "    }\n",
       "\n",
       "    .dataframe tbody tr th {\n",
       "        vertical-align: top;\n",
       "    }\n",
       "\n",
       "    .dataframe thead th {\n",
       "        text-align: right;\n",
       "    }\n",
       "</style>\n",
       "<table border=\"1\" class=\"dataframe\">\n",
       "  <thead>\n",
       "    <tr style=\"text-align: right;\">\n",
       "      <th></th>\n",
       "      <th>SL No:</th>\n",
       "      <th>Customer</th>\n",
       "      <th>Month</th>\n",
       "      <th>Amount</th>\n",
       "    </tr>\n",
       "  </thead>\n",
       "  <tbody>\n",
       "    <tr>\n",
       "      <th>0</th>\n",
       "      <td>1</td>\n",
       "      <td>A1</td>\n",
       "      <td>2006-05-15</td>\n",
       "      <td>2.308473e+05</td>\n",
       "    </tr>\n",
       "    <tr>\n",
       "      <th>1</th>\n",
       "      <td>2</td>\n",
       "      <td>A1</td>\n",
       "      <td>2005-08-27</td>\n",
       "      <td>1.835124e+03</td>\n",
       "    </tr>\n",
       "    <tr>\n",
       "      <th>2</th>\n",
       "      <td>3</td>\n",
       "      <td>A1</td>\n",
       "      <td>2004-03-07</td>\n",
       "      <td>4.858701e+03</td>\n",
       "    </tr>\n",
       "    <tr>\n",
       "      <th>3</th>\n",
       "      <td>4</td>\n",
       "      <td>A1</td>\n",
       "      <td>2005-03-01</td>\n",
       "      <td>1.360527e+06</td>\n",
       "    </tr>\n",
       "    <tr>\n",
       "      <th>4</th>\n",
       "      <td>5</td>\n",
       "      <td>A1</td>\n",
       "      <td>2004-02-14</td>\n",
       "      <td>1.902322e+05</td>\n",
       "    </tr>\n",
       "  </tbody>\n",
       "</table>\n",
       "</div>"
      ],
      "text/plain": [
       "   SL No: Customer      Month        Amount\n",
       "0       1       A1 2006-05-15  2.308473e+05\n",
       "1       2       A1 2005-08-27  1.835124e+03\n",
       "2       3       A1 2004-03-07  4.858701e+03\n",
       "3       4       A1 2005-03-01  1.360527e+06\n",
       "4       5       A1 2004-02-14  1.902322e+05"
      ]
     },
     "execution_count": 7,
     "metadata": {},
     "output_type": "execute_result"
    }
   ],
   "source": [
    "repay_data.head()"
   ]
  },
  {
   "cell_type": "markdown",
   "id": "9f61740a",
   "metadata": {},
   "source": [
    "### Checking the data for any corrupt data, missing values, incorrect data types"
   ]
  },
  {
   "cell_type": "code",
   "execution_count": 8,
   "id": "5f9fed1b",
   "metadata": {},
   "outputs": [
    {
     "name": "stdout",
     "output_type": "stream",
     "text": [
      "<class 'pandas.core.frame.DataFrame'>\n",
      "RangeIndex: 100 entries, 0 to 99\n",
      "Data columns (total 8 columns):\n",
      " #   Column    Non-Null Count  Dtype \n",
      "---  ------    --------------  ----- \n",
      " 0   No        100 non-null    int64 \n",
      " 1   Customer  100 non-null    object\n",
      " 2   Age       100 non-null    int64 \n",
      " 3   City      100 non-null    object\n",
      " 4   Product   100 non-null    object\n",
      " 5   Limit     100 non-null    int64 \n",
      " 6   Company   100 non-null    object\n",
      " 7   Segment   100 non-null    object\n",
      "dtypes: int64(3), object(5)\n",
      "memory usage: 6.4+ KB\n"
     ]
    }
   ],
   "source": [
    "master_data.info()"
   ]
  },
  {
   "cell_type": "code",
   "execution_count": 10,
   "id": "37446c86",
   "metadata": {},
   "outputs": [
    {
     "data": {
      "text/plain": [
       "(100, 8)"
      ]
     },
     "execution_count": 10,
     "metadata": {},
     "output_type": "execute_result"
    }
   ],
   "source": [
    "master_data.shape"
   ]
  },
  {
   "cell_type": "code",
   "execution_count": null,
   "id": "18a2ace0",
   "metadata": {},
   "outputs": [],
   "source": [
    "### There are no null values in master_data. "
   ]
  },
  {
   "cell_type": "code",
   "execution_count": 15,
   "id": "030beed4",
   "metadata": {},
   "outputs": [
    {
     "data": {
      "text/html": [
       "<div>\n",
       "<style scoped>\n",
       "    .dataframe tbody tr th:only-of-type {\n",
       "        vertical-align: middle;\n",
       "    }\n",
       "\n",
       "    .dataframe tbody tr th {\n",
       "        vertical-align: top;\n",
       "    }\n",
       "\n",
       "    .dataframe thead th {\n",
       "        text-align: right;\n",
       "    }\n",
       "</style>\n",
       "<table border=\"1\" class=\"dataframe\">\n",
       "  <thead>\n",
       "    <tr style=\"text-align: right;\">\n",
       "      <th></th>\n",
       "      <th>count</th>\n",
       "      <th>mean</th>\n",
       "      <th>std</th>\n",
       "      <th>min</th>\n",
       "      <th>25%</th>\n",
       "      <th>50%</th>\n",
       "      <th>75%</th>\n",
       "      <th>max</th>\n",
       "    </tr>\n",
       "  </thead>\n",
       "  <tbody>\n",
       "    <tr>\n",
       "      <th>No</th>\n",
       "      <td>100.0</td>\n",
       "      <td>50.50</td>\n",
       "      <td>29.011492</td>\n",
       "      <td>1.0</td>\n",
       "      <td>25.75</td>\n",
       "      <td>50.5</td>\n",
       "      <td>75.25</td>\n",
       "      <td>100.0</td>\n",
       "    </tr>\n",
       "    <tr>\n",
       "      <th>Age</th>\n",
       "      <td>100.0</td>\n",
       "      <td>46.46</td>\n",
       "      <td>17.816925</td>\n",
       "      <td>14.0</td>\n",
       "      <td>30.00</td>\n",
       "      <td>47.5</td>\n",
       "      <td>62.25</td>\n",
       "      <td>75.0</td>\n",
       "    </tr>\n",
       "    <tr>\n",
       "      <th>Limit</th>\n",
       "      <td>100.0</td>\n",
       "      <td>710404.05</td>\n",
       "      <td>529828.971840</td>\n",
       "      <td>10000.0</td>\n",
       "      <td>442521.00</td>\n",
       "      <td>500000.0</td>\n",
       "      <td>1200000.00</td>\n",
       "      <td>3000000.0</td>\n",
       "    </tr>\n",
       "  </tbody>\n",
       "</table>\n",
       "</div>"
      ],
      "text/plain": [
       "       count       mean            std      min        25%       50%  \\\n",
       "No     100.0      50.50      29.011492      1.0      25.75      50.5   \n",
       "Age    100.0      46.46      17.816925     14.0      30.00      47.5   \n",
       "Limit  100.0  710404.05  529828.971840  10000.0  442521.00  500000.0   \n",
       "\n",
       "              75%        max  \n",
       "No          75.25      100.0  \n",
       "Age         62.25       75.0  \n",
       "Limit  1200000.00  3000000.0  "
      ]
     },
     "execution_count": 15,
     "metadata": {},
     "output_type": "execute_result"
    }
   ],
   "source": [
    "master_data.describe().T"
   ]
  },
  {
   "cell_type": "code",
   "execution_count": 16,
   "id": "2b0a5858",
   "metadata": {},
   "outputs": [
    {
     "data": {
      "text/plain": [
       "(3, 8)"
      ]
     },
     "execution_count": 16,
     "metadata": {},
     "output_type": "execute_result"
    }
   ],
   "source": [
    "master_data[master_data['Age']<18].shape"
   ]
  },
  {
   "cell_type": "code",
   "execution_count": null,
   "id": "9f5082d7",
   "metadata": {},
   "outputs": [],
   "source": [
    "### There atre 3 rows where age is less than 18. let's replace it with mean age. "
   ]
  },
  {
   "cell_type": "code",
   "execution_count": 17,
   "id": "b4f72fd0",
   "metadata": {},
   "outputs": [],
   "source": [
    "master_data.loc[(master_data.Age<18),'Age']=master_data.Age.mean()"
   ]
  },
  {
   "cell_type": "code",
   "execution_count": 18,
   "id": "c6eefd8d",
   "metadata": {},
   "outputs": [
    {
     "data": {
      "text/html": [
       "<div>\n",
       "<style scoped>\n",
       "    .dataframe tbody tr th:only-of-type {\n",
       "        vertical-align: middle;\n",
       "    }\n",
       "\n",
       "    .dataframe tbody tr th {\n",
       "        vertical-align: top;\n",
       "    }\n",
       "\n",
       "    .dataframe thead th {\n",
       "        text-align: right;\n",
       "    }\n",
       "</style>\n",
       "<table border=\"1\" class=\"dataframe\">\n",
       "  <thead>\n",
       "    <tr style=\"text-align: right;\">\n",
       "      <th></th>\n",
       "      <th>count</th>\n",
       "      <th>mean</th>\n",
       "      <th>std</th>\n",
       "      <th>min</th>\n",
       "      <th>25%</th>\n",
       "      <th>50%</th>\n",
       "      <th>75%</th>\n",
       "      <th>max</th>\n",
       "    </tr>\n",
       "  </thead>\n",
       "  <tbody>\n",
       "    <tr>\n",
       "      <th>No</th>\n",
       "      <td>100.0</td>\n",
       "      <td>50.5000</td>\n",
       "      <td>29.011492</td>\n",
       "      <td>1.0</td>\n",
       "      <td>25.75</td>\n",
       "      <td>50.5</td>\n",
       "      <td>75.25</td>\n",
       "      <td>100.0</td>\n",
       "    </tr>\n",
       "    <tr>\n",
       "      <th>Age</th>\n",
       "      <td>100.0</td>\n",
       "      <td>47.3938</td>\n",
       "      <td>16.946251</td>\n",
       "      <td>18.0</td>\n",
       "      <td>33.00</td>\n",
       "      <td>47.5</td>\n",
       "      <td>62.25</td>\n",
       "      <td>75.0</td>\n",
       "    </tr>\n",
       "    <tr>\n",
       "      <th>Limit</th>\n",
       "      <td>100.0</td>\n",
       "      <td>710404.0500</td>\n",
       "      <td>529828.971840</td>\n",
       "      <td>10000.0</td>\n",
       "      <td>442521.00</td>\n",
       "      <td>500000.0</td>\n",
       "      <td>1200000.00</td>\n",
       "      <td>3000000.0</td>\n",
       "    </tr>\n",
       "  </tbody>\n",
       "</table>\n",
       "</div>"
      ],
      "text/plain": [
       "       count         mean            std      min        25%       50%  \\\n",
       "No     100.0      50.5000      29.011492      1.0      25.75      50.5   \n",
       "Age    100.0      47.3938      16.946251     18.0      33.00      47.5   \n",
       "Limit  100.0  710404.0500  529828.971840  10000.0  442521.00  500000.0   \n",
       "\n",
       "              75%        max  \n",
       "No          75.25      100.0  \n",
       "Age         62.25       75.0  \n",
       "Limit  1200000.00  3000000.0  "
      ]
     },
     "execution_count": 18,
     "metadata": {},
     "output_type": "execute_result"
    }
   ],
   "source": [
    "master_data.describe().T"
   ]
  },
  {
   "cell_type": "code",
   "execution_count": null,
   "id": "0a7c0d54",
   "metadata": {},
   "outputs": [],
   "source": [
    "### data types looks alright for master_data. "
   ]
  },
  {
   "cell_type": "code",
   "execution_count": 20,
   "id": "0a582b4c",
   "metadata": {},
   "outputs": [
    {
     "data": {
      "text/plain": [
       "(1500, 5)"
      ]
     },
     "execution_count": 20,
     "metadata": {},
     "output_type": "execute_result"
    }
   ],
   "source": [
    "spend.shape"
   ]
  },
  {
   "cell_type": "code",
   "execution_count": 21,
   "id": "4b0ac403",
   "metadata": {},
   "outputs": [
    {
     "name": "stdout",
     "output_type": "stream",
     "text": [
      "<class 'pandas.core.frame.DataFrame'>\n",
      "RangeIndex: 1500 entries, 0 to 1499\n",
      "Data columns (total 5 columns):\n",
      " #   Column    Non-Null Count  Dtype         \n",
      "---  ------    --------------  -----         \n",
      " 0   Sl No:    1500 non-null   int64         \n",
      " 1   Customer  1500 non-null   object        \n",
      " 2   Month     1500 non-null   datetime64[ns]\n",
      " 3   Type      1500 non-null   object        \n",
      " 4   Amount    1500 non-null   float64       \n",
      "dtypes: datetime64[ns](1), float64(1), int64(1), object(2)\n",
      "memory usage: 58.7+ KB\n"
     ]
    }
   ],
   "source": [
    "spend.info()"
   ]
  },
  {
   "cell_type": "code",
   "execution_count": 22,
   "id": "e45be815",
   "metadata": {},
   "outputs": [
    {
     "data": {
      "text/plain": [
       "Sl No:      0\n",
       "Customer    0\n",
       "Month       0\n",
       "Type        0\n",
       "Amount      0\n",
       "dtype: int64"
      ]
     },
     "execution_count": 22,
     "metadata": {},
     "output_type": "execute_result"
    }
   ],
   "source": [
    "spend.isnull().sum()"
   ]
  },
  {
   "cell_type": "code",
   "execution_count": null,
   "id": "d4c8eccf",
   "metadata": {},
   "outputs": [],
   "source": [
    "## There are no null values in spend dataset and datatypes are correct for all varibales. "
   ]
  },
  {
   "cell_type": "code",
   "execution_count": 24,
   "id": "482205d5",
   "metadata": {},
   "outputs": [
    {
     "name": "stdout",
     "output_type": "stream",
     "text": [
      "<class 'pandas.core.frame.DataFrame'>\n",
      "RangeIndex: 807 entries, 0 to 806\n",
      "Data columns (total 4 columns):\n",
      " #   Column    Non-Null Count  Dtype         \n",
      "---  ------    --------------  -----         \n",
      " 0   SL No:    807 non-null    int64         \n",
      " 1   Customer  807 non-null    object        \n",
      " 2   Month     803 non-null    datetime64[ns]\n",
      " 3   Amount    807 non-null    float64       \n",
      "dtypes: datetime64[ns](1), float64(1), int64(1), object(1)\n",
      "memory usage: 25.3+ KB\n"
     ]
    }
   ],
   "source": [
    "repay_data.info()"
   ]
  },
  {
   "cell_type": "code",
   "execution_count": 25,
   "id": "18da829f",
   "metadata": {},
   "outputs": [
    {
     "data": {
      "text/plain": [
       "(807, 4)"
      ]
     },
     "execution_count": 25,
     "metadata": {},
     "output_type": "execute_result"
    }
   ],
   "source": [
    "repay_data.shape"
   ]
  },
  {
   "cell_type": "code",
   "execution_count": 26,
   "id": "dede65a4",
   "metadata": {},
   "outputs": [
    {
     "data": {
      "text/plain": [
       "SL No:      0\n",
       "Customer    0\n",
       "Month       4\n",
       "Amount      0\n",
       "dtype: int64"
      ]
     },
     "execution_count": 26,
     "metadata": {},
     "output_type": "execute_result"
    }
   ],
   "source": [
    "repay_data.isnull().sum()"
   ]
  },
  {
   "cell_type": "code",
   "execution_count": null,
   "id": "0b007102",
   "metadata": {},
   "outputs": [],
   "source": [
    "## There are 4 missing values in month variable in repayment dataset. "
   ]
  },
  {
   "cell_type": "markdown",
   "id": "1925b615",
   "metadata": {},
   "source": [
    "## Answer the following questions:\n",
    "- How many unique customers are there?\n",
    "- How many spend categories are there?\n",
    "- Which category has the highest average spend?\n",
    "- What is the average monthly spent by product categories?\n",
    "- Which customers are reaching 90% or more of their spending limit?\n",
    "- Which city has the maximum number of spenders, each month? Is there a need to run campaigns in specific cities?\n",
    "- Which age group spends the most?"
   ]
  },
  {
   "cell_type": "code",
   "execution_count": 28,
   "id": "b4ebe702",
   "metadata": {},
   "outputs": [
    {
     "data": {
      "text/plain": [
       "100"
      ]
     },
     "execution_count": 28,
     "metadata": {},
     "output_type": "execute_result"
    }
   ],
   "source": [
    "## How many unique customers are there?\n",
    "\n",
    "master_data['Customer'].nunique()"
   ]
  },
  {
   "cell_type": "markdown",
   "id": "776bbd76",
   "metadata": {},
   "source": [
    "There are 100 unique customers."
   ]
  },
  {
   "cell_type": "code",
   "execution_count": 30,
   "id": "99e9a878",
   "metadata": {},
   "outputs": [
    {
     "data": {
      "text/plain": [
       "15"
      ]
     },
     "execution_count": 30,
     "metadata": {},
     "output_type": "execute_result"
    }
   ],
   "source": [
    "## How many spend categories are there?\n",
    "\n",
    "spend['Type'].nunique()"
   ]
  },
  {
   "cell_type": "markdown",
   "id": "06c860de",
   "metadata": {},
   "source": [
    "There are 15 spend categories. "
   ]
  },
  {
   "cell_type": "code",
   "execution_count": 35,
   "id": "9cb0fb15",
   "metadata": {},
   "outputs": [],
   "source": [
    "## Which category has the highest average spend?\n",
    "\n",
    "avg_spend=spend.groupby('Type')['Amount'].mean().to_frame()"
   ]
  },
  {
   "cell_type": "code",
   "execution_count": 38,
   "id": "fb364e68",
   "metadata": {},
   "outputs": [
    {
     "data": {
      "text/html": [
       "<div>\n",
       "<style scoped>\n",
       "    .dataframe tbody tr th:only-of-type {\n",
       "        vertical-align: middle;\n",
       "    }\n",
       "\n",
       "    .dataframe tbody tr th {\n",
       "        vertical-align: top;\n",
       "    }\n",
       "\n",
       "    .dataframe thead th {\n",
       "        text-align: right;\n",
       "    }\n",
       "</style>\n",
       "<table border=\"1\" class=\"dataframe\">\n",
       "  <thead>\n",
       "    <tr style=\"text-align: right;\">\n",
       "      <th></th>\n",
       "      <th>Amount</th>\n",
       "    </tr>\n",
       "    <tr>\n",
       "      <th>Type</th>\n",
       "      <th></th>\n",
       "    </tr>\n",
       "  </thead>\n",
       "  <tbody>\n",
       "    <tr>\n",
       "      <th>CAR</th>\n",
       "      <td>409143.467018</td>\n",
       "    </tr>\n",
       "    <tr>\n",
       "      <th>AIR TICKET</th>\n",
       "      <td>254632.194082</td>\n",
       "    </tr>\n",
       "    <tr>\n",
       "      <th>JEWELLERY</th>\n",
       "      <td>239218.687225</td>\n",
       "    </tr>\n",
       "    <tr>\n",
       "      <th>BIKE</th>\n",
       "      <td>210701.269489</td>\n",
       "    </tr>\n",
       "    <tr>\n",
       "      <th>AUTO</th>\n",
       "      <td>27320.763977</td>\n",
       "    </tr>\n",
       "    <tr>\n",
       "      <th>CLOTHES</th>\n",
       "      <td>25140.160688</td>\n",
       "    </tr>\n",
       "    <tr>\n",
       "      <th>CAMERA</th>\n",
       "      <td>21499.802175</td>\n",
       "    </tr>\n",
       "    <tr>\n",
       "      <th>RENTAL</th>\n",
       "      <td>13106.511138</td>\n",
       "    </tr>\n",
       "    <tr>\n",
       "      <th>BUS TICKET</th>\n",
       "      <td>12681.030717</td>\n",
       "    </tr>\n",
       "    <tr>\n",
       "      <th>SHOPPING</th>\n",
       "      <td>7394.332039</td>\n",
       "    </tr>\n",
       "    <tr>\n",
       "      <th>SANDALS</th>\n",
       "      <td>2516.628761</td>\n",
       "    </tr>\n",
       "    <tr>\n",
       "      <th>MOVIE TICKET</th>\n",
       "      <td>1875.298919</td>\n",
       "    </tr>\n",
       "    <tr>\n",
       "      <th>TRAIN TICKET</th>\n",
       "      <td>1627.490364</td>\n",
       "    </tr>\n",
       "    <tr>\n",
       "      <th>PETRO</th>\n",
       "      <td>549.483953</td>\n",
       "    </tr>\n",
       "    <tr>\n",
       "      <th>FOOD</th>\n",
       "      <td>341.168321</td>\n",
       "    </tr>\n",
       "  </tbody>\n",
       "</table>\n",
       "</div>"
      ],
      "text/plain": [
       "                     Amount\n",
       "Type                       \n",
       "CAR           409143.467018\n",
       "AIR TICKET    254632.194082\n",
       "JEWELLERY     239218.687225\n",
       "BIKE          210701.269489\n",
       "AUTO           27320.763977\n",
       "CLOTHES        25140.160688\n",
       "CAMERA         21499.802175\n",
       "RENTAL         13106.511138\n",
       "BUS TICKET     12681.030717\n",
       "SHOPPING        7394.332039\n",
       "SANDALS         2516.628761\n",
       "MOVIE TICKET    1875.298919\n",
       "TRAIN TICKET    1627.490364\n",
       "PETRO            549.483953\n",
       "FOOD             341.168321"
      ]
     },
     "execution_count": 38,
     "metadata": {},
     "output_type": "execute_result"
    }
   ],
   "source": [
    "avg_spend.sort_values('Amount',ascending=False)"
   ]
  },
  {
   "cell_type": "markdown",
   "id": "8fad245e",
   "metadata": {},
   "source": [
    "Car has the highest average spend of 409143.4."
   ]
  },
  {
   "cell_type": "code",
   "execution_count": null,
   "id": "f858824a",
   "metadata": {},
   "outputs": [],
   "source": [
    "## What is the average monthly spent by product categories?"
   ]
  },
  {
   "cell_type": "code",
   "execution_count": 39,
   "id": "74c97c5b",
   "metadata": {},
   "outputs": [
    {
     "data": {
      "text/html": [
       "<div>\n",
       "<style scoped>\n",
       "    .dataframe tbody tr th:only-of-type {\n",
       "        vertical-align: middle;\n",
       "    }\n",
       "\n",
       "    .dataframe tbody tr th {\n",
       "        vertical-align: top;\n",
       "    }\n",
       "\n",
       "    .dataframe thead th {\n",
       "        text-align: right;\n",
       "    }\n",
       "</style>\n",
       "<table border=\"1\" class=\"dataframe\">\n",
       "  <thead>\n",
       "    <tr style=\"text-align: right;\">\n",
       "      <th></th>\n",
       "      <th>No</th>\n",
       "      <th>Customer</th>\n",
       "      <th>Age</th>\n",
       "      <th>City</th>\n",
       "      <th>Product</th>\n",
       "      <th>Limit</th>\n",
       "      <th>Company</th>\n",
       "      <th>Segment</th>\n",
       "    </tr>\n",
       "  </thead>\n",
       "  <tbody>\n",
       "    <tr>\n",
       "      <th>0</th>\n",
       "      <td>1</td>\n",
       "      <td>A1</td>\n",
       "      <td>47.0</td>\n",
       "      <td>BANGALORE</td>\n",
       "      <td>Gold</td>\n",
       "      <td>1500000</td>\n",
       "      <td>C1</td>\n",
       "      <td>Self Employed</td>\n",
       "    </tr>\n",
       "    <tr>\n",
       "      <th>1</th>\n",
       "      <td>2</td>\n",
       "      <td>A2</td>\n",
       "      <td>56.0</td>\n",
       "      <td>CALCUTTA</td>\n",
       "      <td>Silver</td>\n",
       "      <td>300000</td>\n",
       "      <td>C2</td>\n",
       "      <td>Salaried_MNC</td>\n",
       "    </tr>\n",
       "    <tr>\n",
       "      <th>2</th>\n",
       "      <td>3</td>\n",
       "      <td>A3</td>\n",
       "      <td>30.0</td>\n",
       "      <td>COCHIN</td>\n",
       "      <td>Platimum</td>\n",
       "      <td>540000</td>\n",
       "      <td>C3</td>\n",
       "      <td>Salaried_Pvt</td>\n",
       "    </tr>\n",
       "    <tr>\n",
       "      <th>3</th>\n",
       "      <td>4</td>\n",
       "      <td>A4</td>\n",
       "      <td>22.0</td>\n",
       "      <td>BOMBAY</td>\n",
       "      <td>Platimum</td>\n",
       "      <td>840084</td>\n",
       "      <td>C4</td>\n",
       "      <td>Govt</td>\n",
       "    </tr>\n",
       "    <tr>\n",
       "      <th>4</th>\n",
       "      <td>5</td>\n",
       "      <td>A5</td>\n",
       "      <td>59.0</td>\n",
       "      <td>BANGALORE</td>\n",
       "      <td>Platimum</td>\n",
       "      <td>420084</td>\n",
       "      <td>C5</td>\n",
       "      <td>Normal Salary</td>\n",
       "    </tr>\n",
       "  </tbody>\n",
       "</table>\n",
       "</div>"
      ],
      "text/plain": [
       "   No Customer   Age       City   Product    Limit Company        Segment\n",
       "0   1       A1  47.0  BANGALORE      Gold  1500000      C1  Self Employed\n",
       "1   2       A2  56.0   CALCUTTA    Silver   300000      C2   Salaried_MNC\n",
       "2   3       A3  30.0     COCHIN  Platimum   540000      C3   Salaried_Pvt\n",
       "3   4       A4  22.0     BOMBAY  Platimum   840084      C4           Govt\n",
       "4   5       A5  59.0  BANGALORE  Platimum   420084      C5  Normal Salary"
      ]
     },
     "execution_count": 39,
     "metadata": {},
     "output_type": "execute_result"
    }
   ],
   "source": [
    "master_data.head()"
   ]
  },
  {
   "cell_type": "code",
   "execution_count": 41,
   "id": "f42b2874",
   "metadata": {},
   "outputs": [
    {
     "data": {
      "text/plain": [
       "array(['Gold', 'Silver', 'Platimum'], dtype=object)"
      ]
     },
     "execution_count": 41,
     "metadata": {},
     "output_type": "execute_result"
    }
   ],
   "source": [
    "master_data['Product'].unique()"
   ]
  },
  {
   "cell_type": "code",
   "execution_count": 40,
   "id": "70034f9a",
   "metadata": {},
   "outputs": [
    {
     "data": {
      "text/html": [
       "<div>\n",
       "<style scoped>\n",
       "    .dataframe tbody tr th:only-of-type {\n",
       "        vertical-align: middle;\n",
       "    }\n",
       "\n",
       "    .dataframe tbody tr th {\n",
       "        vertical-align: top;\n",
       "    }\n",
       "\n",
       "    .dataframe thead th {\n",
       "        text-align: right;\n",
       "    }\n",
       "</style>\n",
       "<table border=\"1\" class=\"dataframe\">\n",
       "  <thead>\n",
       "    <tr style=\"text-align: right;\">\n",
       "      <th></th>\n",
       "      <th>Sl No:</th>\n",
       "      <th>Customer</th>\n",
       "      <th>Month</th>\n",
       "      <th>Type</th>\n",
       "      <th>Amount</th>\n",
       "    </tr>\n",
       "  </thead>\n",
       "  <tbody>\n",
       "    <tr>\n",
       "      <th>0</th>\n",
       "      <td>1</td>\n",
       "      <td>A1</td>\n",
       "      <td>2004-01-12</td>\n",
       "      <td>JEWELLERY</td>\n",
       "      <td>344054.980813</td>\n",
       "    </tr>\n",
       "    <tr>\n",
       "      <th>1</th>\n",
       "      <td>2</td>\n",
       "      <td>A1</td>\n",
       "      <td>2004-01-03</td>\n",
       "      <td>PETRO</td>\n",
       "      <td>935.495203</td>\n",
       "    </tr>\n",
       "    <tr>\n",
       "      <th>2</th>\n",
       "      <td>3</td>\n",
       "      <td>A1</td>\n",
       "      <td>2004-01-15</td>\n",
       "      <td>CLOTHES</td>\n",
       "      <td>8687.895474</td>\n",
       "    </tr>\n",
       "    <tr>\n",
       "      <th>3</th>\n",
       "      <td>4</td>\n",
       "      <td>A1</td>\n",
       "      <td>2004-01-25</td>\n",
       "      <td>FOOD</td>\n",
       "      <td>341.159711</td>\n",
       "    </tr>\n",
       "    <tr>\n",
       "      <th>4</th>\n",
       "      <td>5</td>\n",
       "      <td>A1</td>\n",
       "      <td>2005-01-17</td>\n",
       "      <td>CAMERA</td>\n",
       "      <td>3406.639477</td>\n",
       "    </tr>\n",
       "  </tbody>\n",
       "</table>\n",
       "</div>"
      ],
      "text/plain": [
       "   Sl No: Customer      Month       Type         Amount\n",
       "0       1       A1 2004-01-12  JEWELLERY  344054.980813\n",
       "1       2       A1 2004-01-03      PETRO     935.495203\n",
       "2       3       A1 2004-01-15    CLOTHES    8687.895474\n",
       "3       4       A1 2004-01-25       FOOD     341.159711\n",
       "4       5       A1 2005-01-17     CAMERA    3406.639477"
      ]
     },
     "execution_count": 40,
     "metadata": {},
     "output_type": "execute_result"
    }
   ],
   "source": [
    "spend.head()"
   ]
  },
  {
   "cell_type": "markdown",
   "id": "ecfb02a6",
   "metadata": {},
   "source": [
    "The average spend on JEWELLERY is 239218.687225."
   ]
  },
  {
   "cell_type": "code",
   "execution_count": null,
   "id": "644b9699",
   "metadata": {},
   "outputs": [],
   "source": [
    "## Which customers are reaching 90% or more of their spending limit?"
   ]
  },
  {
   "cell_type": "code",
   "execution_count": 44,
   "id": "e1d100a0",
   "metadata": {},
   "outputs": [],
   "source": [
    "customer_total_spend=spend.groupby('Customer')['Amount'].sum().to_frame()"
   ]
  },
  {
   "cell_type": "code",
   "execution_count": 51,
   "id": "4e544610",
   "metadata": {},
   "outputs": [],
   "source": [
    "customer_total_spend.reset_index(inplace=True)"
   ]
  },
  {
   "cell_type": "code",
   "execution_count": 53,
   "id": "d637b264",
   "metadata": {},
   "outputs": [],
   "source": [
    "customer_total_spend = customer_total_spend.rename(columns={'Amount': 'Total_spend'})"
   ]
  },
  {
   "cell_type": "code",
   "execution_count": 54,
   "id": "8d765e68",
   "metadata": {},
   "outputs": [],
   "source": [
    "merged_data=pd.merge(master_data,customer_total_spend,on='Customer',how='left')"
   ]
  },
  {
   "cell_type": "code",
   "execution_count": 55,
   "id": "736f1a48",
   "metadata": {},
   "outputs": [
    {
     "data": {
      "text/html": [
       "<div>\n",
       "<style scoped>\n",
       "    .dataframe tbody tr th:only-of-type {\n",
       "        vertical-align: middle;\n",
       "    }\n",
       "\n",
       "    .dataframe tbody tr th {\n",
       "        vertical-align: top;\n",
       "    }\n",
       "\n",
       "    .dataframe thead th {\n",
       "        text-align: right;\n",
       "    }\n",
       "</style>\n",
       "<table border=\"1\" class=\"dataframe\">\n",
       "  <thead>\n",
       "    <tr style=\"text-align: right;\">\n",
       "      <th></th>\n",
       "      <th>No</th>\n",
       "      <th>Customer</th>\n",
       "      <th>Age</th>\n",
       "      <th>City</th>\n",
       "      <th>Product</th>\n",
       "      <th>Limit</th>\n",
       "      <th>Company</th>\n",
       "      <th>Segment</th>\n",
       "      <th>Total_spend</th>\n",
       "    </tr>\n",
       "  </thead>\n",
       "  <tbody>\n",
       "    <tr>\n",
       "      <th>0</th>\n",
       "      <td>1</td>\n",
       "      <td>A1</td>\n",
       "      <td>47.0</td>\n",
       "      <td>BANGALORE</td>\n",
       "      <td>Gold</td>\n",
       "      <td>1500000</td>\n",
       "      <td>C1</td>\n",
       "      <td>Self Employed</td>\n",
       "      <td>2.202653e+06</td>\n",
       "    </tr>\n",
       "    <tr>\n",
       "      <th>1</th>\n",
       "      <td>2</td>\n",
       "      <td>A2</td>\n",
       "      <td>56.0</td>\n",
       "      <td>CALCUTTA</td>\n",
       "      <td>Silver</td>\n",
       "      <td>300000</td>\n",
       "      <td>C2</td>\n",
       "      <td>Salaried_MNC</td>\n",
       "      <td>1.754633e+05</td>\n",
       "    </tr>\n",
       "    <tr>\n",
       "      <th>2</th>\n",
       "      <td>3</td>\n",
       "      <td>A3</td>\n",
       "      <td>30.0</td>\n",
       "      <td>COCHIN</td>\n",
       "      <td>Platimum</td>\n",
       "      <td>540000</td>\n",
       "      <td>C3</td>\n",
       "      <td>Salaried_Pvt</td>\n",
       "      <td>5.334431e+05</td>\n",
       "    </tr>\n",
       "    <tr>\n",
       "      <th>3</th>\n",
       "      <td>4</td>\n",
       "      <td>A4</td>\n",
       "      <td>22.0</td>\n",
       "      <td>BOMBAY</td>\n",
       "      <td>Platimum</td>\n",
       "      <td>840084</td>\n",
       "      <td>C4</td>\n",
       "      <td>Govt</td>\n",
       "      <td>9.046601e+05</td>\n",
       "    </tr>\n",
       "    <tr>\n",
       "      <th>4</th>\n",
       "      <td>5</td>\n",
       "      <td>A5</td>\n",
       "      <td>59.0</td>\n",
       "      <td>BANGALORE</td>\n",
       "      <td>Platimum</td>\n",
       "      <td>420084</td>\n",
       "      <td>C5</td>\n",
       "      <td>Normal Salary</td>\n",
       "      <td>9.235348e+05</td>\n",
       "    </tr>\n",
       "  </tbody>\n",
       "</table>\n",
       "</div>"
      ],
      "text/plain": [
       "   No Customer   Age       City   Product    Limit Company        Segment  \\\n",
       "0   1       A1  47.0  BANGALORE      Gold  1500000      C1  Self Employed   \n",
       "1   2       A2  56.0   CALCUTTA    Silver   300000      C2   Salaried_MNC   \n",
       "2   3       A3  30.0     COCHIN  Platimum   540000      C3   Salaried_Pvt   \n",
       "3   4       A4  22.0     BOMBAY  Platimum   840084      C4           Govt   \n",
       "4   5       A5  59.0  BANGALORE  Platimum   420084      C5  Normal Salary   \n",
       "\n",
       "    Total_spend  \n",
       "0  2.202653e+06  \n",
       "1  1.754633e+05  \n",
       "2  5.334431e+05  \n",
       "3  9.046601e+05  \n",
       "4  9.235348e+05  "
      ]
     },
     "execution_count": 55,
     "metadata": {},
     "output_type": "execute_result"
    }
   ],
   "source": [
    "merged_data.head()"
   ]
  },
  {
   "cell_type": "code",
   "execution_count": 59,
   "id": "7c0275c8",
   "metadata": {},
   "outputs": [
    {
     "data": {
      "text/plain": [
       "(60, 9)"
      ]
     },
     "execution_count": 59,
     "metadata": {},
     "output_type": "execute_result"
    }
   ],
   "source": [
    "merged_data[merged_data['Total_spend']>((merged_data['Limit']*90)/100)].shape"
   ]
  },
  {
   "cell_type": "code",
   "execution_count": null,
   "id": "b8d2ef14",
   "metadata": {},
   "outputs": [],
   "source": [
    "## There are 60 people who have spend more than 90% of their spending capacity. "
   ]
  },
  {
   "cell_type": "code",
   "execution_count": null,
   "id": "b6811fe7",
   "metadata": {},
   "outputs": [],
   "source": [
    "##Which city has the maximum number of spenders, each month? Is there a need to run campaigns in specific cities?"
   ]
  },
  {
   "cell_type": "code",
   "execution_count": 60,
   "id": "9da39940",
   "metadata": {},
   "outputs": [
    {
     "data": {
      "text/html": [
       "<div>\n",
       "<style scoped>\n",
       "    .dataframe tbody tr th:only-of-type {\n",
       "        vertical-align: middle;\n",
       "    }\n",
       "\n",
       "    .dataframe tbody tr th {\n",
       "        vertical-align: top;\n",
       "    }\n",
       "\n",
       "    .dataframe thead th {\n",
       "        text-align: right;\n",
       "    }\n",
       "</style>\n",
       "<table border=\"1\" class=\"dataframe\">\n",
       "  <thead>\n",
       "    <tr style=\"text-align: right;\">\n",
       "      <th></th>\n",
       "      <th>No</th>\n",
       "      <th>Customer</th>\n",
       "      <th>Age</th>\n",
       "      <th>City</th>\n",
       "      <th>Product</th>\n",
       "      <th>Limit</th>\n",
       "      <th>Company</th>\n",
       "      <th>Segment</th>\n",
       "    </tr>\n",
       "  </thead>\n",
       "  <tbody>\n",
       "    <tr>\n",
       "      <th>0</th>\n",
       "      <td>1</td>\n",
       "      <td>A1</td>\n",
       "      <td>47.0</td>\n",
       "      <td>BANGALORE</td>\n",
       "      <td>Gold</td>\n",
       "      <td>1500000</td>\n",
       "      <td>C1</td>\n",
       "      <td>Self Employed</td>\n",
       "    </tr>\n",
       "    <tr>\n",
       "      <th>1</th>\n",
       "      <td>2</td>\n",
       "      <td>A2</td>\n",
       "      <td>56.0</td>\n",
       "      <td>CALCUTTA</td>\n",
       "      <td>Silver</td>\n",
       "      <td>300000</td>\n",
       "      <td>C2</td>\n",
       "      <td>Salaried_MNC</td>\n",
       "    </tr>\n",
       "    <tr>\n",
       "      <th>2</th>\n",
       "      <td>3</td>\n",
       "      <td>A3</td>\n",
       "      <td>30.0</td>\n",
       "      <td>COCHIN</td>\n",
       "      <td>Platimum</td>\n",
       "      <td>540000</td>\n",
       "      <td>C3</td>\n",
       "      <td>Salaried_Pvt</td>\n",
       "    </tr>\n",
       "    <tr>\n",
       "      <th>3</th>\n",
       "      <td>4</td>\n",
       "      <td>A4</td>\n",
       "      <td>22.0</td>\n",
       "      <td>BOMBAY</td>\n",
       "      <td>Platimum</td>\n",
       "      <td>840084</td>\n",
       "      <td>C4</td>\n",
       "      <td>Govt</td>\n",
       "    </tr>\n",
       "    <tr>\n",
       "      <th>4</th>\n",
       "      <td>5</td>\n",
       "      <td>A5</td>\n",
       "      <td>59.0</td>\n",
       "      <td>BANGALORE</td>\n",
       "      <td>Platimum</td>\n",
       "      <td>420084</td>\n",
       "      <td>C5</td>\n",
       "      <td>Normal Salary</td>\n",
       "    </tr>\n",
       "  </tbody>\n",
       "</table>\n",
       "</div>"
      ],
      "text/plain": [
       "   No Customer   Age       City   Product    Limit Company        Segment\n",
       "0   1       A1  47.0  BANGALORE      Gold  1500000      C1  Self Employed\n",
       "1   2       A2  56.0   CALCUTTA    Silver   300000      C2   Salaried_MNC\n",
       "2   3       A3  30.0     COCHIN  Platimum   540000      C3   Salaried_Pvt\n",
       "3   4       A4  22.0     BOMBAY  Platimum   840084      C4           Govt\n",
       "4   5       A5  59.0  BANGALORE  Platimum   420084      C5  Normal Salary"
      ]
     },
     "execution_count": 60,
     "metadata": {},
     "output_type": "execute_result"
    }
   ],
   "source": [
    "master_data.head()"
   ]
  },
  {
   "cell_type": "code",
   "execution_count": 61,
   "id": "000653e2",
   "metadata": {},
   "outputs": [
    {
     "data": {
      "text/html": [
       "<div>\n",
       "<style scoped>\n",
       "    .dataframe tbody tr th:only-of-type {\n",
       "        vertical-align: middle;\n",
       "    }\n",
       "\n",
       "    .dataframe tbody tr th {\n",
       "        vertical-align: top;\n",
       "    }\n",
       "\n",
       "    .dataframe thead th {\n",
       "        text-align: right;\n",
       "    }\n",
       "</style>\n",
       "<table border=\"1\" class=\"dataframe\">\n",
       "  <thead>\n",
       "    <tr style=\"text-align: right;\">\n",
       "      <th></th>\n",
       "      <th>Sl No:</th>\n",
       "      <th>Customer</th>\n",
       "      <th>Month</th>\n",
       "      <th>Type</th>\n",
       "      <th>Amount</th>\n",
       "    </tr>\n",
       "  </thead>\n",
       "  <tbody>\n",
       "    <tr>\n",
       "      <th>0</th>\n",
       "      <td>1</td>\n",
       "      <td>A1</td>\n",
       "      <td>2004-01-12</td>\n",
       "      <td>JEWELLERY</td>\n",
       "      <td>344054.980813</td>\n",
       "    </tr>\n",
       "    <tr>\n",
       "      <th>1</th>\n",
       "      <td>2</td>\n",
       "      <td>A1</td>\n",
       "      <td>2004-01-03</td>\n",
       "      <td>PETRO</td>\n",
       "      <td>935.495203</td>\n",
       "    </tr>\n",
       "    <tr>\n",
       "      <th>2</th>\n",
       "      <td>3</td>\n",
       "      <td>A1</td>\n",
       "      <td>2004-01-15</td>\n",
       "      <td>CLOTHES</td>\n",
       "      <td>8687.895474</td>\n",
       "    </tr>\n",
       "    <tr>\n",
       "      <th>3</th>\n",
       "      <td>4</td>\n",
       "      <td>A1</td>\n",
       "      <td>2004-01-25</td>\n",
       "      <td>FOOD</td>\n",
       "      <td>341.159711</td>\n",
       "    </tr>\n",
       "    <tr>\n",
       "      <th>4</th>\n",
       "      <td>5</td>\n",
       "      <td>A1</td>\n",
       "      <td>2005-01-17</td>\n",
       "      <td>CAMERA</td>\n",
       "      <td>3406.639477</td>\n",
       "    </tr>\n",
       "  </tbody>\n",
       "</table>\n",
       "</div>"
      ],
      "text/plain": [
       "   Sl No: Customer      Month       Type         Amount\n",
       "0       1       A1 2004-01-12  JEWELLERY  344054.980813\n",
       "1       2       A1 2004-01-03      PETRO     935.495203\n",
       "2       3       A1 2004-01-15    CLOTHES    8687.895474\n",
       "3       4       A1 2004-01-25       FOOD     341.159711\n",
       "4       5       A1 2005-01-17     CAMERA    3406.639477"
      ]
     },
     "execution_count": 61,
     "metadata": {},
     "output_type": "execute_result"
    }
   ],
   "source": [
    "spend.head()"
   ]
  },
  {
   "cell_type": "code",
   "execution_count": null,
   "id": "0199b36c",
   "metadata": {},
   "outputs": [],
   "source": [
    "## Which age group spends the most?"
   ]
  },
  {
   "cell_type": "code",
   "execution_count": 62,
   "id": "74db0698",
   "metadata": {},
   "outputs": [
    {
     "data": {
      "text/html": [
       "<div>\n",
       "<style scoped>\n",
       "    .dataframe tbody tr th:only-of-type {\n",
       "        vertical-align: middle;\n",
       "    }\n",
       "\n",
       "    .dataframe tbody tr th {\n",
       "        vertical-align: top;\n",
       "    }\n",
       "\n",
       "    .dataframe thead th {\n",
       "        text-align: right;\n",
       "    }\n",
       "</style>\n",
       "<table border=\"1\" class=\"dataframe\">\n",
       "  <thead>\n",
       "    <tr style=\"text-align: right;\">\n",
       "      <th></th>\n",
       "      <th>No</th>\n",
       "      <th>Customer</th>\n",
       "      <th>Age</th>\n",
       "      <th>City</th>\n",
       "      <th>Product</th>\n",
       "      <th>Limit</th>\n",
       "      <th>Company</th>\n",
       "      <th>Segment</th>\n",
       "      <th>Total_spend</th>\n",
       "    </tr>\n",
       "  </thead>\n",
       "  <tbody>\n",
       "    <tr>\n",
       "      <th>0</th>\n",
       "      <td>1</td>\n",
       "      <td>A1</td>\n",
       "      <td>47.0</td>\n",
       "      <td>BANGALORE</td>\n",
       "      <td>Gold</td>\n",
       "      <td>1500000</td>\n",
       "      <td>C1</td>\n",
       "      <td>Self Employed</td>\n",
       "      <td>2.202653e+06</td>\n",
       "    </tr>\n",
       "    <tr>\n",
       "      <th>1</th>\n",
       "      <td>2</td>\n",
       "      <td>A2</td>\n",
       "      <td>56.0</td>\n",
       "      <td>CALCUTTA</td>\n",
       "      <td>Silver</td>\n",
       "      <td>300000</td>\n",
       "      <td>C2</td>\n",
       "      <td>Salaried_MNC</td>\n",
       "      <td>1.754633e+05</td>\n",
       "    </tr>\n",
       "    <tr>\n",
       "      <th>2</th>\n",
       "      <td>3</td>\n",
       "      <td>A3</td>\n",
       "      <td>30.0</td>\n",
       "      <td>COCHIN</td>\n",
       "      <td>Platimum</td>\n",
       "      <td>540000</td>\n",
       "      <td>C3</td>\n",
       "      <td>Salaried_Pvt</td>\n",
       "      <td>5.334431e+05</td>\n",
       "    </tr>\n",
       "    <tr>\n",
       "      <th>3</th>\n",
       "      <td>4</td>\n",
       "      <td>A4</td>\n",
       "      <td>22.0</td>\n",
       "      <td>BOMBAY</td>\n",
       "      <td>Platimum</td>\n",
       "      <td>840084</td>\n",
       "      <td>C4</td>\n",
       "      <td>Govt</td>\n",
       "      <td>9.046601e+05</td>\n",
       "    </tr>\n",
       "    <tr>\n",
       "      <th>4</th>\n",
       "      <td>5</td>\n",
       "      <td>A5</td>\n",
       "      <td>59.0</td>\n",
       "      <td>BANGALORE</td>\n",
       "      <td>Platimum</td>\n",
       "      <td>420084</td>\n",
       "      <td>C5</td>\n",
       "      <td>Normal Salary</td>\n",
       "      <td>9.235348e+05</td>\n",
       "    </tr>\n",
       "  </tbody>\n",
       "</table>\n",
       "</div>"
      ],
      "text/plain": [
       "   No Customer   Age       City   Product    Limit Company        Segment  \\\n",
       "0   1       A1  47.0  BANGALORE      Gold  1500000      C1  Self Employed   \n",
       "1   2       A2  56.0   CALCUTTA    Silver   300000      C2   Salaried_MNC   \n",
       "2   3       A3  30.0     COCHIN  Platimum   540000      C3   Salaried_Pvt   \n",
       "3   4       A4  22.0     BOMBAY  Platimum   840084      C4           Govt   \n",
       "4   5       A5  59.0  BANGALORE  Platimum   420084      C5  Normal Salary   \n",
       "\n",
       "    Total_spend  \n",
       "0  2.202653e+06  \n",
       "1  1.754633e+05  \n",
       "2  5.334431e+05  \n",
       "3  9.046601e+05  \n",
       "4  9.235348e+05  "
      ]
     },
     "execution_count": 62,
     "metadata": {},
     "output_type": "execute_result"
    }
   ],
   "source": [
    "merged_data.head()"
   ]
  },
  {
   "cell_type": "code",
   "execution_count": null,
   "id": "ab870552",
   "metadata": {},
   "outputs": [],
   "source": []
  }
 ],
 "metadata": {
  "kernelspec": {
   "display_name": "Python 3 (ipykernel)",
   "language": "python",
   "name": "python3"
  },
  "language_info": {
   "codemirror_mode": {
    "name": "ipython",
    "version": 3
   },
   "file_extension": ".py",
   "mimetype": "text/x-python",
   "name": "python",
   "nbconvert_exporter": "python",
   "pygments_lexer": "ipython3",
   "version": "3.11.4"
  }
 },
 "nbformat": 4,
 "nbformat_minor": 5
}
